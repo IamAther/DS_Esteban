{
  "nbformat": 4,
  "nbformat_minor": 0,
  "metadata": {
    "colab": {
      "provenance": [],
      "authorship_tag": "ABX9TyP0dbGjs1itaHcbSD+Do/mm",
      "include_colab_link": true
    },
    "kernelspec": {
      "name": "python3",
      "display_name": "Python 3"
    },
    "language_info": {
      "name": "python"
    }
  },
  "cells": [
    {
      "cell_type": "markdown",
      "metadata": {
        "id": "view-in-github",
        "colab_type": "text"
      },
      "source": [
        "<a href=\"https://colab.research.google.com/github/IamAther/DS_Esteban/blob/main/Clase_6.ipynb\" target=\"_parent\"><img src=\"https://colab.research.google.com/assets/colab-badge.svg\" alt=\"Open In Colab\"/></a>"
      ]
    },
    {
      "cell_type": "code",
      "execution_count": 1,
      "metadata": {
        "id": "gR75lRwDrnZG"
      },
      "outputs": [],
      "source": [
        "import numpy as np\n",
        "import pandas as pd"
      ]
    },
    {
      "cell_type": "markdown",
      "source": [
        "#Uso de GitHub\n",
        "### Crear GitHub asociada con Colab"
      ],
      "metadata": {
        "id": "LUgFl1kDrsS0"
      }
    },
    {
      "cell_type": "code",
      "source": [],
      "metadata": {
        "id": "7Oxwpscrrr8Q"
      },
      "execution_count": null,
      "outputs": []
    }
  ]
}