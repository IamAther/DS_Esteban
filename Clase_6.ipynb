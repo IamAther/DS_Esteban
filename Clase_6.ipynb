{
  "nbformat": 4,
  "nbformat_minor": 0,
  "metadata": {
    "colab": {
      "provenance": [],
      "authorship_tag": "ABX9TyO5Qu2N2q0Y4dTgWMSAnnHG",
      "include_colab_link": true
    },
    "kernelspec": {
      "name": "python3",
      "display_name": "Python 3"
    },
    "language_info": {
      "name": "python"
    }
  },
  "cells": [
    {
      "cell_type": "markdown",
      "metadata": {
        "id": "view-in-github",
        "colab_type": "text"
      },
      "source": [
        "<a href=\"https://colab.research.google.com/github/IamAther/DS_Esteban/blob/main/Clase_6.ipynb\" target=\"_parent\"><img src=\"https://colab.research.google.com/assets/colab-badge.svg\" alt=\"Open In Colab\"/></a>"
      ]
    },
    {
      "cell_type": "code",
      "execution_count": 2,
      "metadata": {
        "id": "gR75lRwDrnZG"
      },
      "outputs": [],
      "source": [
        "import numpy as np\n",
        "import pandas as pd"
      ]
    },
    {
      "cell_type": "markdown",
      "source": [
        "#Uso de GitHub\n",
        "### Crear GitHub asociada con Colab\n",
        "##### Facilita subir nuestros trabajos y recibir feedback del profesor, es una herramienta poderosa para mostrar nuestro trabajo y colaborar con otros científicos de datos y programadores en general"
      ],
      "metadata": {
        "id": "LUgFl1kDrsS0"
      }
    },
    {
      "cell_type": "markdown",
      "source": [
        "#### Una buena práctica es imprimir las versiones utilizadas y requeridas por nuestros programas, supongo que es algo de etiqueta y buena fé con una comunidad de desarrollo libre."
      ],
      "metadata": {
        "id": "qVZQFTISxkbs"
      }
    },
    {
      "cell_type": "code",
      "source": [
        "print('** Versiones Actuales | Requeridas **')\n",
        "print('Numpy: Versión Actual:',np.__version__)\n",
        "print('Pandas: Versión Actual:',pd.__version__)"
      ],
      "metadata": {
        "id": "7Oxwpscrrr8Q",
        "colab": {
          "base_uri": "https://localhost:8080/"
        },
        "outputId": "4aebe545-3e7f-4337-e0ef-5847b714f931"
      },
      "execution_count": 3,
      "outputs": [
        {
          "output_type": "stream",
          "name": "stdout",
          "text": [
            "** Versiones Actuales | Requeridas **\n",
            "Numpy: Versión Actual: 1.21.6\n",
            "Pandas: Versión Actual: 1.3.5\n"
          ]
        }
      ]
    },
    {
      "cell_type": "code",
      "source": [
        "#Usamos el constructor pd.Series\n",
        "items = pd.Series(data = np.array([2, 3, 8, 6, 7])) , name = 'Precios', index = ['veg1', 'cer1', 'frut1', 'frut2']\n",
        "print(items)"
      ],
      "metadata": {
        "colab": {
          "base_uri": "https://localhost:8080/",
          "height": 148
        },
        "id": "C7ozPRs2yOpa",
        "outputId": "03c75ebf-5328-40d4-df38-dc285f22a596"
      },
      "execution_count": 13,
      "outputs": [
        {
          "output_type": "error",
          "ename": "SyntaxError",
          "evalue": "ignored",
          "traceback": [
            "\u001b[0;36m  File \u001b[0;32m\"<ipython-input-13-685c4f1cb31f>\"\u001b[0;36m, line \u001b[0;32m2\u001b[0m\n\u001b[0;31m    items = pd.Series(data = np.array([2, 3, 8, 6, 7])) , name = 'Precios', index = ['veg1', 'cer1', 'frut1', 'frut2']\u001b[0m\n\u001b[0m           ^\u001b[0m\n\u001b[0;31mSyntaxError\u001b[0m\u001b[0;31m:\u001b[0m can't assign to function call\n"
          ]
        }
      ]
    },
    {
      "cell_type": "code",
      "source": [
        "df = pd.read_csv(filepath_or_buffer='https://storage.googleapis.com/datasets-academy/Track%20Data%20Science/01_Intro_Python/PWT91.csv'\n",
        "                  ,sep =',',\n",
        "                    decimal = '.')\n",
        "#Es una buena práctica hacer un scaneo de la información y tener presente\n",
        "#como se dividen los datos, los puntos decimales\n",
        "\n",
        "df.head(100)\n"
      ],
      "metadata": {
        "colab": {
          "base_uri": "https://localhost:8080/",
          "height": 655
        },
        "id": "8-5M55Xhz3Lu",
        "outputId": "68788fe5-a570-41a8-df72-8ad67b4442cc"
      },
      "execution_count": 22,
      "outputs": [
        {
          "output_type": "execute_result",
          "data": {
            "text/plain": [
              "   countrycode country  year        rgdpo       pop       emp  avh        hc\n",
              "0          ABW   Aruba  1950          NaN       NaN       NaN  NaN       NaN\n",
              "1          ABW   Aruba  1951          NaN       NaN       NaN  NaN       NaN\n",
              "2          ABW   Aruba  1952          NaN       NaN       NaN  NaN       NaN\n",
              "3          ABW   Aruba  1953          NaN       NaN       NaN  NaN       NaN\n",
              "4          ABW   Aruba  1954          NaN       NaN       NaN  NaN       NaN\n",
              "..         ...     ...   ...          ...       ...       ...  ...       ...\n",
              "95         AGO  Angola  1977  27101.01953  8.130988  4.111429  NaN  1.033385\n",
              "96         AGO  Angola  1978  24654.34766  8.376147  4.209530  NaN  1.035939\n",
              "97         AGO  Angola  1979  24989.89453  8.641521  4.290003  NaN  1.038498\n",
              "98         AGO  Angola  1980  25335.56836  8.929900  4.300710  NaN  1.041064\n",
              "99         AGO  Angola  1981  25177.26172  9.244507  4.429433  NaN  1.050381\n",
              "\n",
              "[100 rows x 8 columns]"
            ],
            "text/html": [
              "\n",
              "  <div id=\"df-d8335622-4c73-4ab5-85c6-eda888240f66\">\n",
              "    <div class=\"colab-df-container\">\n",
              "      <div>\n",
              "<style scoped>\n",
              "    .dataframe tbody tr th:only-of-type {\n",
              "        vertical-align: middle;\n",
              "    }\n",
              "\n",
              "    .dataframe tbody tr th {\n",
              "        vertical-align: top;\n",
              "    }\n",
              "\n",
              "    .dataframe thead th {\n",
              "        text-align: right;\n",
              "    }\n",
              "</style>\n",
              "<table border=\"1\" class=\"dataframe\">\n",
              "  <thead>\n",
              "    <tr style=\"text-align: right;\">\n",
              "      <th></th>\n",
              "      <th>countrycode</th>\n",
              "      <th>country</th>\n",
              "      <th>year</th>\n",
              "      <th>rgdpo</th>\n",
              "      <th>pop</th>\n",
              "      <th>emp</th>\n",
              "      <th>avh</th>\n",
              "      <th>hc</th>\n",
              "    </tr>\n",
              "  </thead>\n",
              "  <tbody>\n",
              "    <tr>\n",
              "      <th>0</th>\n",
              "      <td>ABW</td>\n",
              "      <td>Aruba</td>\n",
              "      <td>1950</td>\n",
              "      <td>NaN</td>\n",
              "      <td>NaN</td>\n",
              "      <td>NaN</td>\n",
              "      <td>NaN</td>\n",
              "      <td>NaN</td>\n",
              "    </tr>\n",
              "    <tr>\n",
              "      <th>1</th>\n",
              "      <td>ABW</td>\n",
              "      <td>Aruba</td>\n",
              "      <td>1951</td>\n",
              "      <td>NaN</td>\n",
              "      <td>NaN</td>\n",
              "      <td>NaN</td>\n",
              "      <td>NaN</td>\n",
              "      <td>NaN</td>\n",
              "    </tr>\n",
              "    <tr>\n",
              "      <th>2</th>\n",
              "      <td>ABW</td>\n",
              "      <td>Aruba</td>\n",
              "      <td>1952</td>\n",
              "      <td>NaN</td>\n",
              "      <td>NaN</td>\n",
              "      <td>NaN</td>\n",
              "      <td>NaN</td>\n",
              "      <td>NaN</td>\n",
              "    </tr>\n",
              "    <tr>\n",
              "      <th>3</th>\n",
              "      <td>ABW</td>\n",
              "      <td>Aruba</td>\n",
              "      <td>1953</td>\n",
              "      <td>NaN</td>\n",
              "      <td>NaN</td>\n",
              "      <td>NaN</td>\n",
              "      <td>NaN</td>\n",
              "      <td>NaN</td>\n",
              "    </tr>\n",
              "    <tr>\n",
              "      <th>4</th>\n",
              "      <td>ABW</td>\n",
              "      <td>Aruba</td>\n",
              "      <td>1954</td>\n",
              "      <td>NaN</td>\n",
              "      <td>NaN</td>\n",
              "      <td>NaN</td>\n",
              "      <td>NaN</td>\n",
              "      <td>NaN</td>\n",
              "    </tr>\n",
              "    <tr>\n",
              "      <th>...</th>\n",
              "      <td>...</td>\n",
              "      <td>...</td>\n",
              "      <td>...</td>\n",
              "      <td>...</td>\n",
              "      <td>...</td>\n",
              "      <td>...</td>\n",
              "      <td>...</td>\n",
              "      <td>...</td>\n",
              "    </tr>\n",
              "    <tr>\n",
              "      <th>95</th>\n",
              "      <td>AGO</td>\n",
              "      <td>Angola</td>\n",
              "      <td>1977</td>\n",
              "      <td>27101.01953</td>\n",
              "      <td>8.130988</td>\n",
              "      <td>4.111429</td>\n",
              "      <td>NaN</td>\n",
              "      <td>1.033385</td>\n",
              "    </tr>\n",
              "    <tr>\n",
              "      <th>96</th>\n",
              "      <td>AGO</td>\n",
              "      <td>Angola</td>\n",
              "      <td>1978</td>\n",
              "      <td>24654.34766</td>\n",
              "      <td>8.376147</td>\n",
              "      <td>4.209530</td>\n",
              "      <td>NaN</td>\n",
              "      <td>1.035939</td>\n",
              "    </tr>\n",
              "    <tr>\n",
              "      <th>97</th>\n",
              "      <td>AGO</td>\n",
              "      <td>Angola</td>\n",
              "      <td>1979</td>\n",
              "      <td>24989.89453</td>\n",
              "      <td>8.641521</td>\n",
              "      <td>4.290003</td>\n",
              "      <td>NaN</td>\n",
              "      <td>1.038498</td>\n",
              "    </tr>\n",
              "    <tr>\n",
              "      <th>98</th>\n",
              "      <td>AGO</td>\n",
              "      <td>Angola</td>\n",
              "      <td>1980</td>\n",
              "      <td>25335.56836</td>\n",
              "      <td>8.929900</td>\n",
              "      <td>4.300710</td>\n",
              "      <td>NaN</td>\n",
              "      <td>1.041064</td>\n",
              "    </tr>\n",
              "    <tr>\n",
              "      <th>99</th>\n",
              "      <td>AGO</td>\n",
              "      <td>Angola</td>\n",
              "      <td>1981</td>\n",
              "      <td>25177.26172</td>\n",
              "      <td>9.244507</td>\n",
              "      <td>4.429433</td>\n",
              "      <td>NaN</td>\n",
              "      <td>1.050381</td>\n",
              "    </tr>\n",
              "  </tbody>\n",
              "</table>\n",
              "<p>100 rows × 8 columns</p>\n",
              "</div>\n",
              "      <button class=\"colab-df-convert\" onclick=\"convertToInteractive('df-d8335622-4c73-4ab5-85c6-eda888240f66')\"\n",
              "              title=\"Convert this dataframe to an interactive table.\"\n",
              "              style=\"display:none;\">\n",
              "        \n",
              "  <svg xmlns=\"http://www.w3.org/2000/svg\" height=\"24px\"viewBox=\"0 0 24 24\"\n",
              "       width=\"24px\">\n",
              "    <path d=\"M0 0h24v24H0V0z\" fill=\"none\"/>\n",
              "    <path d=\"M18.56 5.44l.94 2.06.94-2.06 2.06-.94-2.06-.94-.94-2.06-.94 2.06-2.06.94zm-11 1L8.5 8.5l.94-2.06 2.06-.94-2.06-.94L8.5 2.5l-.94 2.06-2.06.94zm10 10l.94 2.06.94-2.06 2.06-.94-2.06-.94-.94-2.06-.94 2.06-2.06.94z\"/><path d=\"M17.41 7.96l-1.37-1.37c-.4-.4-.92-.59-1.43-.59-.52 0-1.04.2-1.43.59L10.3 9.45l-7.72 7.72c-.78.78-.78 2.05 0 2.83L4 21.41c.39.39.9.59 1.41.59.51 0 1.02-.2 1.41-.59l7.78-7.78 2.81-2.81c.8-.78.8-2.07 0-2.86zM5.41 20L4 18.59l7.72-7.72 1.47 1.35L5.41 20z\"/>\n",
              "  </svg>\n",
              "      </button>\n",
              "      \n",
              "  <style>\n",
              "    .colab-df-container {\n",
              "      display:flex;\n",
              "      flex-wrap:wrap;\n",
              "      gap: 12px;\n",
              "    }\n",
              "\n",
              "    .colab-df-convert {\n",
              "      background-color: #E8F0FE;\n",
              "      border: none;\n",
              "      border-radius: 50%;\n",
              "      cursor: pointer;\n",
              "      display: none;\n",
              "      fill: #1967D2;\n",
              "      height: 32px;\n",
              "      padding: 0 0 0 0;\n",
              "      width: 32px;\n",
              "    }\n",
              "\n",
              "    .colab-df-convert:hover {\n",
              "      background-color: #E2EBFA;\n",
              "      box-shadow: 0px 1px 2px rgba(60, 64, 67, 0.3), 0px 1px 3px 1px rgba(60, 64, 67, 0.15);\n",
              "      fill: #174EA6;\n",
              "    }\n",
              "\n",
              "    [theme=dark] .colab-df-convert {\n",
              "      background-color: #3B4455;\n",
              "      fill: #D2E3FC;\n",
              "    }\n",
              "\n",
              "    [theme=dark] .colab-df-convert:hover {\n",
              "      background-color: #434B5C;\n",
              "      box-shadow: 0px 1px 3px 1px rgba(0, 0, 0, 0.15);\n",
              "      filter: drop-shadow(0px 1px 2px rgba(0, 0, 0, 0.3));\n",
              "      fill: #FFFFFF;\n",
              "    }\n",
              "  </style>\n",
              "\n",
              "      <script>\n",
              "        const buttonEl =\n",
              "          document.querySelector('#df-d8335622-4c73-4ab5-85c6-eda888240f66 button.colab-df-convert');\n",
              "        buttonEl.style.display =\n",
              "          google.colab.kernel.accessAllowed ? 'block' : 'none';\n",
              "\n",
              "        async function convertToInteractive(key) {\n",
              "          const element = document.querySelector('#df-d8335622-4c73-4ab5-85c6-eda888240f66');\n",
              "          const dataTable =\n",
              "            await google.colab.kernel.invokeFunction('convertToInteractive',\n",
              "                                                     [key], {});\n",
              "          if (!dataTable) return;\n",
              "\n",
              "          const docLinkHtml = 'Like what you see? Visit the ' +\n",
              "            '<a target=\"_blank\" href=https://colab.research.google.com/notebooks/data_table.ipynb>data table notebook</a>'\n",
              "            + ' to learn more about interactive tables.';\n",
              "          element.innerHTML = '';\n",
              "          dataTable['output_type'] = 'display_data';\n",
              "          await google.colab.output.renderOutput(dataTable, element);\n",
              "          const docLink = document.createElement('div');\n",
              "          docLink.innerHTML = docLinkHtml;\n",
              "          element.appendChild(docLink);\n",
              "        }\n",
              "      </script>\n",
              "    </div>\n",
              "  </div>\n",
              "  "
            ]
          },
          "metadata": {},
          "execution_count": 22
        }
      ]
    },
    {
      "cell_type": "code",
      "source": [
        "#Para conocer las dimensiones de mi dt es bueno conocer la siguiente función\n",
        "df.shape"
      ],
      "metadata": {
        "colab": {
          "base_uri": "https://localhost:8080/"
        },
        "id": "Eed5NG9d2MYo",
        "outputId": "3fea71de-bf7c-4c9b-9312-1e239bfad876"
      },
      "execution_count": 23,
      "outputs": [
        {
          "output_type": "execute_result",
          "data": {
            "text/plain": [
              "(12376, 8)"
            ]
          },
          "metadata": {},
          "execution_count": 23
        }
      ]
    },
    {
      "cell_type": "code",
      "source": [
        "print(type(df))\n",
        "df.dtypes\n",
        "#Para convertir el tipo de dato de una columna podemos hacer:\n",
        "#df['pop'].astype(int)\n",
        "#Debido a que puede haber valores no finitos convertirlo puede ser un problema\n",
        "#Debemos alterar estos datos antes\n",
        "df ['pop'] = df['pop'].fillna(0)\n",
        "#Ahora sí podemos convertir la columna\n",
        "df['pop'].astype(int)\n",
        "\n",
        "#Antes de reasignar df['pop'] debemos asegurarnos que esto sea lo que deseamos\n",
        "#porque no podemos devolverlo y esto puede tener consecuencias graves.\n"
      ],
      "metadata": {
        "colab": {
          "base_uri": "https://localhost:8080/"
        },
        "id": "7LuPvWXi2oGe",
        "outputId": "be73ade6-f282-4f4b-e192-e114e09595c7"
      },
      "execution_count": 32,
      "outputs": [
        {
          "output_type": "stream",
          "name": "stdout",
          "text": [
            "<class 'pandas.core.frame.DataFrame'>\n"
          ]
        },
        {
          "output_type": "execute_result",
          "data": {
            "text/plain": [
              "0         0\n",
              "1         0\n",
              "2         0\n",
              "3         0\n",
              "4         0\n",
              "         ..\n",
              "12371    15\n",
              "12372    15\n",
              "12373    15\n",
              "12374    16\n",
              "12375    16\n",
              "Name: pop, Length: 12376, dtype: int64"
            ]
          },
          "metadata": {},
          "execution_count": 32
        }
      ]
    },
    {
      "cell_type": "code",
      "source": [
        "df"
      ],
      "metadata": {
        "colab": {
          "base_uri": "https://localhost:8080/",
          "height": 468
        },
        "id": "opWQ6J9I5Mor",
        "outputId": "5160915b-3873-427e-9b58-7f528790ea84"
      },
      "execution_count": 33,
      "outputs": [
        {
          "output_type": "execute_result",
          "data": {
            "text/plain": [
              "      countrycode   country  year        rgdpo        pop       emp  avh  \\\n",
              "0             ABW     Aruba  1950          NaN   0.000000       NaN  NaN   \n",
              "1             ABW     Aruba  1951          NaN   0.000000       NaN  NaN   \n",
              "2             ABW     Aruba  1952          NaN   0.000000       NaN  NaN   \n",
              "3             ABW     Aruba  1953          NaN   0.000000       NaN  NaN   \n",
              "4             ABW     Aruba  1954          NaN   0.000000       NaN  NaN   \n",
              "...           ...       ...   ...          ...        ...       ...  ...   \n",
              "12371         ZWE  Zimbabwe  2013  28329.81055  15.054506  7.914061  NaN   \n",
              "12372         ZWE  Zimbabwe  2014  29355.75977  15.411675  8.222112  NaN   \n",
              "12373         ZWE  Zimbabwe  2015  29150.75000  15.777451  8.530669  NaN   \n",
              "12374         ZWE  Zimbabwe  2016  29420.44922  16.150362  8.839398  NaN   \n",
              "12375         ZWE  Zimbabwe  2017  30940.81641  16.529903  9.181251  NaN   \n",
              "\n",
              "             hc  \n",
              "0           NaN  \n",
              "1           NaN  \n",
              "2           NaN  \n",
              "3           NaN  \n",
              "4           NaN  \n",
              "...         ...  \n",
              "12371  2.504635  \n",
              "12372  2.550258  \n",
              "12373  2.584653  \n",
              "12374  2.616257  \n",
              "12375  2.648248  \n",
              "\n",
              "[12376 rows x 8 columns]"
            ],
            "text/html": [
              "\n",
              "  <div id=\"df-176031f0-04e8-485d-a314-f20db131c18a\">\n",
              "    <div class=\"colab-df-container\">\n",
              "      <div>\n",
              "<style scoped>\n",
              "    .dataframe tbody tr th:only-of-type {\n",
              "        vertical-align: middle;\n",
              "    }\n",
              "\n",
              "    .dataframe tbody tr th {\n",
              "        vertical-align: top;\n",
              "    }\n",
              "\n",
              "    .dataframe thead th {\n",
              "        text-align: right;\n",
              "    }\n",
              "</style>\n",
              "<table border=\"1\" class=\"dataframe\">\n",
              "  <thead>\n",
              "    <tr style=\"text-align: right;\">\n",
              "      <th></th>\n",
              "      <th>countrycode</th>\n",
              "      <th>country</th>\n",
              "      <th>year</th>\n",
              "      <th>rgdpo</th>\n",
              "      <th>pop</th>\n",
              "      <th>emp</th>\n",
              "      <th>avh</th>\n",
              "      <th>hc</th>\n",
              "    </tr>\n",
              "  </thead>\n",
              "  <tbody>\n",
              "    <tr>\n",
              "      <th>0</th>\n",
              "      <td>ABW</td>\n",
              "      <td>Aruba</td>\n",
              "      <td>1950</td>\n",
              "      <td>NaN</td>\n",
              "      <td>0.000000</td>\n",
              "      <td>NaN</td>\n",
              "      <td>NaN</td>\n",
              "      <td>NaN</td>\n",
              "    </tr>\n",
              "    <tr>\n",
              "      <th>1</th>\n",
              "      <td>ABW</td>\n",
              "      <td>Aruba</td>\n",
              "      <td>1951</td>\n",
              "      <td>NaN</td>\n",
              "      <td>0.000000</td>\n",
              "      <td>NaN</td>\n",
              "      <td>NaN</td>\n",
              "      <td>NaN</td>\n",
              "    </tr>\n",
              "    <tr>\n",
              "      <th>2</th>\n",
              "      <td>ABW</td>\n",
              "      <td>Aruba</td>\n",
              "      <td>1952</td>\n",
              "      <td>NaN</td>\n",
              "      <td>0.000000</td>\n",
              "      <td>NaN</td>\n",
              "      <td>NaN</td>\n",
              "      <td>NaN</td>\n",
              "    </tr>\n",
              "    <tr>\n",
              "      <th>3</th>\n",
              "      <td>ABW</td>\n",
              "      <td>Aruba</td>\n",
              "      <td>1953</td>\n",
              "      <td>NaN</td>\n",
              "      <td>0.000000</td>\n",
              "      <td>NaN</td>\n",
              "      <td>NaN</td>\n",
              "      <td>NaN</td>\n",
              "    </tr>\n",
              "    <tr>\n",
              "      <th>4</th>\n",
              "      <td>ABW</td>\n",
              "      <td>Aruba</td>\n",
              "      <td>1954</td>\n",
              "      <td>NaN</td>\n",
              "      <td>0.000000</td>\n",
              "      <td>NaN</td>\n",
              "      <td>NaN</td>\n",
              "      <td>NaN</td>\n",
              "    </tr>\n",
              "    <tr>\n",
              "      <th>...</th>\n",
              "      <td>...</td>\n",
              "      <td>...</td>\n",
              "      <td>...</td>\n",
              "      <td>...</td>\n",
              "      <td>...</td>\n",
              "      <td>...</td>\n",
              "      <td>...</td>\n",
              "      <td>...</td>\n",
              "    </tr>\n",
              "    <tr>\n",
              "      <th>12371</th>\n",
              "      <td>ZWE</td>\n",
              "      <td>Zimbabwe</td>\n",
              "      <td>2013</td>\n",
              "      <td>28329.81055</td>\n",
              "      <td>15.054506</td>\n",
              "      <td>7.914061</td>\n",
              "      <td>NaN</td>\n",
              "      <td>2.504635</td>\n",
              "    </tr>\n",
              "    <tr>\n",
              "      <th>12372</th>\n",
              "      <td>ZWE</td>\n",
              "      <td>Zimbabwe</td>\n",
              "      <td>2014</td>\n",
              "      <td>29355.75977</td>\n",
              "      <td>15.411675</td>\n",
              "      <td>8.222112</td>\n",
              "      <td>NaN</td>\n",
              "      <td>2.550258</td>\n",
              "    </tr>\n",
              "    <tr>\n",
              "      <th>12373</th>\n",
              "      <td>ZWE</td>\n",
              "      <td>Zimbabwe</td>\n",
              "      <td>2015</td>\n",
              "      <td>29150.75000</td>\n",
              "      <td>15.777451</td>\n",
              "      <td>8.530669</td>\n",
              "      <td>NaN</td>\n",
              "      <td>2.584653</td>\n",
              "    </tr>\n",
              "    <tr>\n",
              "      <th>12374</th>\n",
              "      <td>ZWE</td>\n",
              "      <td>Zimbabwe</td>\n",
              "      <td>2016</td>\n",
              "      <td>29420.44922</td>\n",
              "      <td>16.150362</td>\n",
              "      <td>8.839398</td>\n",
              "      <td>NaN</td>\n",
              "      <td>2.616257</td>\n",
              "    </tr>\n",
              "    <tr>\n",
              "      <th>12375</th>\n",
              "      <td>ZWE</td>\n",
              "      <td>Zimbabwe</td>\n",
              "      <td>2017</td>\n",
              "      <td>30940.81641</td>\n",
              "      <td>16.529903</td>\n",
              "      <td>9.181251</td>\n",
              "      <td>NaN</td>\n",
              "      <td>2.648248</td>\n",
              "    </tr>\n",
              "  </tbody>\n",
              "</table>\n",
              "<p>12376 rows × 8 columns</p>\n",
              "</div>\n",
              "      <button class=\"colab-df-convert\" onclick=\"convertToInteractive('df-176031f0-04e8-485d-a314-f20db131c18a')\"\n",
              "              title=\"Convert this dataframe to an interactive table.\"\n",
              "              style=\"display:none;\">\n",
              "        \n",
              "  <svg xmlns=\"http://www.w3.org/2000/svg\" height=\"24px\"viewBox=\"0 0 24 24\"\n",
              "       width=\"24px\">\n",
              "    <path d=\"M0 0h24v24H0V0z\" fill=\"none\"/>\n",
              "    <path d=\"M18.56 5.44l.94 2.06.94-2.06 2.06-.94-2.06-.94-.94-2.06-.94 2.06-2.06.94zm-11 1L8.5 8.5l.94-2.06 2.06-.94-2.06-.94L8.5 2.5l-.94 2.06-2.06.94zm10 10l.94 2.06.94-2.06 2.06-.94-2.06-.94-.94-2.06-.94 2.06-2.06.94z\"/><path d=\"M17.41 7.96l-1.37-1.37c-.4-.4-.92-.59-1.43-.59-.52 0-1.04.2-1.43.59L10.3 9.45l-7.72 7.72c-.78.78-.78 2.05 0 2.83L4 21.41c.39.39.9.59 1.41.59.51 0 1.02-.2 1.41-.59l7.78-7.78 2.81-2.81c.8-.78.8-2.07 0-2.86zM5.41 20L4 18.59l7.72-7.72 1.47 1.35L5.41 20z\"/>\n",
              "  </svg>\n",
              "      </button>\n",
              "      \n",
              "  <style>\n",
              "    .colab-df-container {\n",
              "      display:flex;\n",
              "      flex-wrap:wrap;\n",
              "      gap: 12px;\n",
              "    }\n",
              "\n",
              "    .colab-df-convert {\n",
              "      background-color: #E8F0FE;\n",
              "      border: none;\n",
              "      border-radius: 50%;\n",
              "      cursor: pointer;\n",
              "      display: none;\n",
              "      fill: #1967D2;\n",
              "      height: 32px;\n",
              "      padding: 0 0 0 0;\n",
              "      width: 32px;\n",
              "    }\n",
              "\n",
              "    .colab-df-convert:hover {\n",
              "      background-color: #E2EBFA;\n",
              "      box-shadow: 0px 1px 2px rgba(60, 64, 67, 0.3), 0px 1px 3px 1px rgba(60, 64, 67, 0.15);\n",
              "      fill: #174EA6;\n",
              "    }\n",
              "\n",
              "    [theme=dark] .colab-df-convert {\n",
              "      background-color: #3B4455;\n",
              "      fill: #D2E3FC;\n",
              "    }\n",
              "\n",
              "    [theme=dark] .colab-df-convert:hover {\n",
              "      background-color: #434B5C;\n",
              "      box-shadow: 0px 1px 3px 1px rgba(0, 0, 0, 0.15);\n",
              "      filter: drop-shadow(0px 1px 2px rgba(0, 0, 0, 0.3));\n",
              "      fill: #FFFFFF;\n",
              "    }\n",
              "  </style>\n",
              "\n",
              "      <script>\n",
              "        const buttonEl =\n",
              "          document.querySelector('#df-176031f0-04e8-485d-a314-f20db131c18a button.colab-df-convert');\n",
              "        buttonEl.style.display =\n",
              "          google.colab.kernel.accessAllowed ? 'block' : 'none';\n",
              "\n",
              "        async function convertToInteractive(key) {\n",
              "          const element = document.querySelector('#df-176031f0-04e8-485d-a314-f20db131c18a');\n",
              "          const dataTable =\n",
              "            await google.colab.kernel.invokeFunction('convertToInteractive',\n",
              "                                                     [key], {});\n",
              "          if (!dataTable) return;\n",
              "\n",
              "          const docLinkHtml = 'Like what you see? Visit the ' +\n",
              "            '<a target=\"_blank\" href=https://colab.research.google.com/notebooks/data_table.ipynb>data table notebook</a>'\n",
              "            + ' to learn more about interactive tables.';\n",
              "          element.innerHTML = '';\n",
              "          dataTable['output_type'] = 'display_data';\n",
              "          await google.colab.output.renderOutput(dataTable, element);\n",
              "          const docLink = document.createElement('div');\n",
              "          docLink.innerHTML = docLinkHtml;\n",
              "          element.appendChild(docLink);\n",
              "        }\n",
              "      </script>\n",
              "    </div>\n",
              "  </div>\n",
              "  "
            ]
          },
          "metadata": {},
          "execution_count": 33
        }
      ]
    },
    {
      "cell_type": "markdown",
      "source": [
        "##Repetir el proceso de df['pop'] con las columnas rgdpo, emp, avh y hc"
      ],
      "metadata": {
        "id": "WAInCZj58H_J"
      }
    },
    {
      "cell_type": "code",
      "source": [
        "#Columna rgdpo\n",
        "df['rgdpo']"
      ],
      "metadata": {
        "colab": {
          "base_uri": "https://localhost:8080/"
        },
        "id": "vE0oazm-5yxB",
        "outputId": "116e9735-ea56-4fc0-f81e-6a5211fb0362"
      },
      "execution_count": 34,
      "outputs": [
        {
          "output_type": "execute_result",
          "data": {
            "text/plain": [
              "0                NaN\n",
              "1                NaN\n",
              "2                NaN\n",
              "3                NaN\n",
              "4                NaN\n",
              "            ...     \n",
              "12371    28329.81055\n",
              "12372    29355.75977\n",
              "12373    29150.75000\n",
              "12374    29420.44922\n",
              "12375    30940.81641\n",
              "Name: rgdpo, Length: 12376, dtype: float64"
            ]
          },
          "metadata": {},
          "execution_count": 34
        }
      ]
    },
    {
      "cell_type": "code",
      "source": [
        "#Reasignar rgdpo\n",
        "df['rgdpo'] = df['rgdpo'].fillna(0)\n",
        "df['rgdpo']"
      ],
      "metadata": {
        "colab": {
          "base_uri": "https://localhost:8080/"
        },
        "id": "nLkDU7fK58fj",
        "outputId": "737901c4-c21e-4f20-b703-a8a362d930ff"
      },
      "execution_count": 36,
      "outputs": [
        {
          "output_type": "execute_result",
          "data": {
            "text/plain": [
              "0            0.00000\n",
              "1            0.00000\n",
              "2            0.00000\n",
              "3            0.00000\n",
              "4            0.00000\n",
              "            ...     \n",
              "12371    28329.81055\n",
              "12372    29355.75977\n",
              "12373    29150.75000\n",
              "12374    29420.44922\n",
              "12375    30940.81641\n",
              "Name: rgdpo, Length: 12376, dtype: float64"
            ]
          },
          "metadata": {},
          "execution_count": 36
        }
      ]
    },
    {
      "cell_type": "code",
      "source": [
        "#Columna emp\n",
        "df['emp']"
      ],
      "metadata": {
        "colab": {
          "base_uri": "https://localhost:8080/"
        },
        "id": "yEPd46nb6T35",
        "outputId": "e02c6ae3-1de3-443d-d43a-fe2bc64afe09"
      },
      "execution_count": 38,
      "outputs": [
        {
          "output_type": "execute_result",
          "data": {
            "text/plain": [
              "0             NaN\n",
              "1             NaN\n",
              "2             NaN\n",
              "3             NaN\n",
              "4             NaN\n",
              "           ...   \n",
              "12371    7.914061\n",
              "12372    8.222112\n",
              "12373    8.530669\n",
              "12374    8.839398\n",
              "12375    9.181251\n",
              "Name: emp, Length: 12376, dtype: float64"
            ]
          },
          "metadata": {},
          "execution_count": 38
        }
      ]
    },
    {
      "cell_type": "code",
      "source": [
        "#Reasignar emp\n",
        "df['emp'] = df['emp'].fillna(0)\n",
        "df['emp']"
      ],
      "metadata": {
        "colab": {
          "base_uri": "https://localhost:8080/"
        },
        "id": "c4CuJwrd6aqu",
        "outputId": "b7b054c6-9e1f-49a1-91e9-675727bb03f0"
      },
      "execution_count": 40,
      "outputs": [
        {
          "output_type": "execute_result",
          "data": {
            "text/plain": [
              "0        0.000000\n",
              "1        0.000000\n",
              "2        0.000000\n",
              "3        0.000000\n",
              "4        0.000000\n",
              "           ...   \n",
              "12371    7.914061\n",
              "12372    8.222112\n",
              "12373    8.530669\n",
              "12374    8.839398\n",
              "12375    9.181251\n",
              "Name: emp, Length: 12376, dtype: float64"
            ]
          },
          "metadata": {},
          "execution_count": 40
        }
      ]
    },
    {
      "cell_type": "code",
      "source": [
        "#Columna avh\n",
        "df['avh']"
      ],
      "metadata": {
        "colab": {
          "base_uri": "https://localhost:8080/"
        },
        "id": "29AhoZiG6lLy",
        "outputId": "287d9a76-0f58-4b38-c67d-12e5b93979a4"
      },
      "execution_count": 41,
      "outputs": [
        {
          "output_type": "execute_result",
          "data": {
            "text/plain": [
              "0       NaN\n",
              "1       NaN\n",
              "2       NaN\n",
              "3       NaN\n",
              "4       NaN\n",
              "         ..\n",
              "12371   NaN\n",
              "12372   NaN\n",
              "12373   NaN\n",
              "12374   NaN\n",
              "12375   NaN\n",
              "Name: avh, Length: 12376, dtype: float64"
            ]
          },
          "metadata": {},
          "execution_count": 41
        }
      ]
    },
    {
      "cell_type": "code",
      "source": [
        "#Reasignar avh\n",
        "df['avh'] = df['avh'].fillna(0)\n",
        "df['avh']"
      ],
      "metadata": {
        "colab": {
          "base_uri": "https://localhost:8080/"
        },
        "id": "5mk6vR9h6oyG",
        "outputId": "86383edc-032e-4c26-f1b6-3cfdeb1b9e0b"
      },
      "execution_count": 43,
      "outputs": [
        {
          "output_type": "execute_result",
          "data": {
            "text/plain": [
              "0        0.0\n",
              "1        0.0\n",
              "2        0.0\n",
              "3        0.0\n",
              "4        0.0\n",
              "        ... \n",
              "12371    0.0\n",
              "12372    0.0\n",
              "12373    0.0\n",
              "12374    0.0\n",
              "12375    0.0\n",
              "Name: avh, Length: 12376, dtype: float64"
            ]
          },
          "metadata": {},
          "execution_count": 43
        }
      ]
    },
    {
      "cell_type": "code",
      "source": [
        "#Columna hc\n",
        "df['hc']"
      ],
      "metadata": {
        "colab": {
          "base_uri": "https://localhost:8080/"
        },
        "id": "zOxfL8zB67Ny",
        "outputId": "39078c12-3401-498d-f782-5d680031597e"
      },
      "execution_count": 44,
      "outputs": [
        {
          "output_type": "execute_result",
          "data": {
            "text/plain": [
              "0             NaN\n",
              "1             NaN\n",
              "2             NaN\n",
              "3             NaN\n",
              "4             NaN\n",
              "           ...   \n",
              "12371    2.504635\n",
              "12372    2.550258\n",
              "12373    2.584653\n",
              "12374    2.616257\n",
              "12375    2.648248\n",
              "Name: hc, Length: 12376, dtype: float64"
            ]
          },
          "metadata": {},
          "execution_count": 44
        }
      ]
    },
    {
      "cell_type": "code",
      "source": [
        "#Reasignar hc\n",
        "df['hc'] = df['hc'].fillna(0)\n",
        "df['hc']"
      ],
      "metadata": {
        "colab": {
          "base_uri": "https://localhost:8080/"
        },
        "id": "0hUjSCor7Bgl",
        "outputId": "847ce08c-9f56-4780-c119-6e49d7a693f7"
      },
      "execution_count": 46,
      "outputs": [
        {
          "output_type": "execute_result",
          "data": {
            "text/plain": [
              "0        0.000000\n",
              "1        0.000000\n",
              "2        0.000000\n",
              "3        0.000000\n",
              "4        0.000000\n",
              "           ...   \n",
              "12371    2.504635\n",
              "12372    2.550258\n",
              "12373    2.584653\n",
              "12374    2.616257\n",
              "12375    2.648248\n",
              "Name: hc, Length: 12376, dtype: float64"
            ]
          },
          "metadata": {},
          "execution_count": 46
        }
      ]
    },
    {
      "cell_type": "code",
      "source": [
        "df"
      ],
      "metadata": {
        "colab": {
          "base_uri": "https://localhost:8080/",
          "height": 468
        },
        "id": "xV5FIDEf7KaD",
        "outputId": "fb62d28c-f6a0-4bd5-f3c4-848e67e1cf45"
      },
      "execution_count": 47,
      "outputs": [
        {
          "output_type": "execute_result",
          "data": {
            "text/plain": [
              "      countrycode   country  year        rgdpo        pop       emp  avh  \\\n",
              "0             ABW     Aruba  1950      0.00000   0.000000  0.000000  0.0   \n",
              "1             ABW     Aruba  1951      0.00000   0.000000  0.000000  0.0   \n",
              "2             ABW     Aruba  1952      0.00000   0.000000  0.000000  0.0   \n",
              "3             ABW     Aruba  1953      0.00000   0.000000  0.000000  0.0   \n",
              "4             ABW     Aruba  1954      0.00000   0.000000  0.000000  0.0   \n",
              "...           ...       ...   ...          ...        ...       ...  ...   \n",
              "12371         ZWE  Zimbabwe  2013  28329.81055  15.054506  7.914061  0.0   \n",
              "12372         ZWE  Zimbabwe  2014  29355.75977  15.411675  8.222112  0.0   \n",
              "12373         ZWE  Zimbabwe  2015  29150.75000  15.777451  8.530669  0.0   \n",
              "12374         ZWE  Zimbabwe  2016  29420.44922  16.150362  8.839398  0.0   \n",
              "12375         ZWE  Zimbabwe  2017  30940.81641  16.529903  9.181251  0.0   \n",
              "\n",
              "             hc  \n",
              "0      0.000000  \n",
              "1      0.000000  \n",
              "2      0.000000  \n",
              "3      0.000000  \n",
              "4      0.000000  \n",
              "...         ...  \n",
              "12371  2.504635  \n",
              "12372  2.550258  \n",
              "12373  2.584653  \n",
              "12374  2.616257  \n",
              "12375  2.648248  \n",
              "\n",
              "[12376 rows x 8 columns]"
            ],
            "text/html": [
              "\n",
              "  <div id=\"df-c52f5fab-d3eb-4944-aee7-2f1809b94454\">\n",
              "    <div class=\"colab-df-container\">\n",
              "      <div>\n",
              "<style scoped>\n",
              "    .dataframe tbody tr th:only-of-type {\n",
              "        vertical-align: middle;\n",
              "    }\n",
              "\n",
              "    .dataframe tbody tr th {\n",
              "        vertical-align: top;\n",
              "    }\n",
              "\n",
              "    .dataframe thead th {\n",
              "        text-align: right;\n",
              "    }\n",
              "</style>\n",
              "<table border=\"1\" class=\"dataframe\">\n",
              "  <thead>\n",
              "    <tr style=\"text-align: right;\">\n",
              "      <th></th>\n",
              "      <th>countrycode</th>\n",
              "      <th>country</th>\n",
              "      <th>year</th>\n",
              "      <th>rgdpo</th>\n",
              "      <th>pop</th>\n",
              "      <th>emp</th>\n",
              "      <th>avh</th>\n",
              "      <th>hc</th>\n",
              "    </tr>\n",
              "  </thead>\n",
              "  <tbody>\n",
              "    <tr>\n",
              "      <th>0</th>\n",
              "      <td>ABW</td>\n",
              "      <td>Aruba</td>\n",
              "      <td>1950</td>\n",
              "      <td>0.00000</td>\n",
              "      <td>0.000000</td>\n",
              "      <td>0.000000</td>\n",
              "      <td>0.0</td>\n",
              "      <td>0.000000</td>\n",
              "    </tr>\n",
              "    <tr>\n",
              "      <th>1</th>\n",
              "      <td>ABW</td>\n",
              "      <td>Aruba</td>\n",
              "      <td>1951</td>\n",
              "      <td>0.00000</td>\n",
              "      <td>0.000000</td>\n",
              "      <td>0.000000</td>\n",
              "      <td>0.0</td>\n",
              "      <td>0.000000</td>\n",
              "    </tr>\n",
              "    <tr>\n",
              "      <th>2</th>\n",
              "      <td>ABW</td>\n",
              "      <td>Aruba</td>\n",
              "      <td>1952</td>\n",
              "      <td>0.00000</td>\n",
              "      <td>0.000000</td>\n",
              "      <td>0.000000</td>\n",
              "      <td>0.0</td>\n",
              "      <td>0.000000</td>\n",
              "    </tr>\n",
              "    <tr>\n",
              "      <th>3</th>\n",
              "      <td>ABW</td>\n",
              "      <td>Aruba</td>\n",
              "      <td>1953</td>\n",
              "      <td>0.00000</td>\n",
              "      <td>0.000000</td>\n",
              "      <td>0.000000</td>\n",
              "      <td>0.0</td>\n",
              "      <td>0.000000</td>\n",
              "    </tr>\n",
              "    <tr>\n",
              "      <th>4</th>\n",
              "      <td>ABW</td>\n",
              "      <td>Aruba</td>\n",
              "      <td>1954</td>\n",
              "      <td>0.00000</td>\n",
              "      <td>0.000000</td>\n",
              "      <td>0.000000</td>\n",
              "      <td>0.0</td>\n",
              "      <td>0.000000</td>\n",
              "    </tr>\n",
              "    <tr>\n",
              "      <th>...</th>\n",
              "      <td>...</td>\n",
              "      <td>...</td>\n",
              "      <td>...</td>\n",
              "      <td>...</td>\n",
              "      <td>...</td>\n",
              "      <td>...</td>\n",
              "      <td>...</td>\n",
              "      <td>...</td>\n",
              "    </tr>\n",
              "    <tr>\n",
              "      <th>12371</th>\n",
              "      <td>ZWE</td>\n",
              "      <td>Zimbabwe</td>\n",
              "      <td>2013</td>\n",
              "      <td>28329.81055</td>\n",
              "      <td>15.054506</td>\n",
              "      <td>7.914061</td>\n",
              "      <td>0.0</td>\n",
              "      <td>2.504635</td>\n",
              "    </tr>\n",
              "    <tr>\n",
              "      <th>12372</th>\n",
              "      <td>ZWE</td>\n",
              "      <td>Zimbabwe</td>\n",
              "      <td>2014</td>\n",
              "      <td>29355.75977</td>\n",
              "      <td>15.411675</td>\n",
              "      <td>8.222112</td>\n",
              "      <td>0.0</td>\n",
              "      <td>2.550258</td>\n",
              "    </tr>\n",
              "    <tr>\n",
              "      <th>12373</th>\n",
              "      <td>ZWE</td>\n",
              "      <td>Zimbabwe</td>\n",
              "      <td>2015</td>\n",
              "      <td>29150.75000</td>\n",
              "      <td>15.777451</td>\n",
              "      <td>8.530669</td>\n",
              "      <td>0.0</td>\n",
              "      <td>2.584653</td>\n",
              "    </tr>\n",
              "    <tr>\n",
              "      <th>12374</th>\n",
              "      <td>ZWE</td>\n",
              "      <td>Zimbabwe</td>\n",
              "      <td>2016</td>\n",
              "      <td>29420.44922</td>\n",
              "      <td>16.150362</td>\n",
              "      <td>8.839398</td>\n",
              "      <td>0.0</td>\n",
              "      <td>2.616257</td>\n",
              "    </tr>\n",
              "    <tr>\n",
              "      <th>12375</th>\n",
              "      <td>ZWE</td>\n",
              "      <td>Zimbabwe</td>\n",
              "      <td>2017</td>\n",
              "      <td>30940.81641</td>\n",
              "      <td>16.529903</td>\n",
              "      <td>9.181251</td>\n",
              "      <td>0.0</td>\n",
              "      <td>2.648248</td>\n",
              "    </tr>\n",
              "  </tbody>\n",
              "</table>\n",
              "<p>12376 rows × 8 columns</p>\n",
              "</div>\n",
              "      <button class=\"colab-df-convert\" onclick=\"convertToInteractive('df-c52f5fab-d3eb-4944-aee7-2f1809b94454')\"\n",
              "              title=\"Convert this dataframe to an interactive table.\"\n",
              "              style=\"display:none;\">\n",
              "        \n",
              "  <svg xmlns=\"http://www.w3.org/2000/svg\" height=\"24px\"viewBox=\"0 0 24 24\"\n",
              "       width=\"24px\">\n",
              "    <path d=\"M0 0h24v24H0V0z\" fill=\"none\"/>\n",
              "    <path d=\"M18.56 5.44l.94 2.06.94-2.06 2.06-.94-2.06-.94-.94-2.06-.94 2.06-2.06.94zm-11 1L8.5 8.5l.94-2.06 2.06-.94-2.06-.94L8.5 2.5l-.94 2.06-2.06.94zm10 10l.94 2.06.94-2.06 2.06-.94-2.06-.94-.94-2.06-.94 2.06-2.06.94z\"/><path d=\"M17.41 7.96l-1.37-1.37c-.4-.4-.92-.59-1.43-.59-.52 0-1.04.2-1.43.59L10.3 9.45l-7.72 7.72c-.78.78-.78 2.05 0 2.83L4 21.41c.39.39.9.59 1.41.59.51 0 1.02-.2 1.41-.59l7.78-7.78 2.81-2.81c.8-.78.8-2.07 0-2.86zM5.41 20L4 18.59l7.72-7.72 1.47 1.35L5.41 20z\"/>\n",
              "  </svg>\n",
              "      </button>\n",
              "      \n",
              "  <style>\n",
              "    .colab-df-container {\n",
              "      display:flex;\n",
              "      flex-wrap:wrap;\n",
              "      gap: 12px;\n",
              "    }\n",
              "\n",
              "    .colab-df-convert {\n",
              "      background-color: #E8F0FE;\n",
              "      border: none;\n",
              "      border-radius: 50%;\n",
              "      cursor: pointer;\n",
              "      display: none;\n",
              "      fill: #1967D2;\n",
              "      height: 32px;\n",
              "      padding: 0 0 0 0;\n",
              "      width: 32px;\n",
              "    }\n",
              "\n",
              "    .colab-df-convert:hover {\n",
              "      background-color: #E2EBFA;\n",
              "      box-shadow: 0px 1px 2px rgba(60, 64, 67, 0.3), 0px 1px 3px 1px rgba(60, 64, 67, 0.15);\n",
              "      fill: #174EA6;\n",
              "    }\n",
              "\n",
              "    [theme=dark] .colab-df-convert {\n",
              "      background-color: #3B4455;\n",
              "      fill: #D2E3FC;\n",
              "    }\n",
              "\n",
              "    [theme=dark] .colab-df-convert:hover {\n",
              "      background-color: #434B5C;\n",
              "      box-shadow: 0px 1px 3px 1px rgba(0, 0, 0, 0.15);\n",
              "      filter: drop-shadow(0px 1px 2px rgba(0, 0, 0, 0.3));\n",
              "      fill: #FFFFFF;\n",
              "    }\n",
              "  </style>\n",
              "\n",
              "      <script>\n",
              "        const buttonEl =\n",
              "          document.querySelector('#df-c52f5fab-d3eb-4944-aee7-2f1809b94454 button.colab-df-convert');\n",
              "        buttonEl.style.display =\n",
              "          google.colab.kernel.accessAllowed ? 'block' : 'none';\n",
              "\n",
              "        async function convertToInteractive(key) {\n",
              "          const element = document.querySelector('#df-c52f5fab-d3eb-4944-aee7-2f1809b94454');\n",
              "          const dataTable =\n",
              "            await google.colab.kernel.invokeFunction('convertToInteractive',\n",
              "                                                     [key], {});\n",
              "          if (!dataTable) return;\n",
              "\n",
              "          const docLinkHtml = 'Like what you see? Visit the ' +\n",
              "            '<a target=\"_blank\" href=https://colab.research.google.com/notebooks/data_table.ipynb>data table notebook</a>'\n",
              "            + ' to learn more about interactive tables.';\n",
              "          element.innerHTML = '';\n",
              "          dataTable['output_type'] = 'display_data';\n",
              "          await google.colab.output.renderOutput(dataTable, element);\n",
              "          const docLink = document.createElement('div');\n",
              "          docLink.innerHTML = docLinkHtml;\n",
              "          element.appendChild(docLink);\n",
              "        }\n",
              "      </script>\n",
              "    </div>\n",
              "  </div>\n",
              "  "
            ]
          },
          "metadata": {},
          "execution_count": 47
        }
      ]
    }
  ]
}